{
 "cells": [
  {
   "cell_type": "code",
   "execution_count": 1,
   "metadata": {},
   "outputs": [],
   "source": [
    "import pandas as pd\n",
    "import numpy as np\n",
    "#from sklearn import linear_model\n",
    "#from sklearn.neighbors import KNeighborsClassifier\n",
    "from sklearn.feature_extraction.text import CountVectorizer\n",
    "import matplotlib.pyplot as plt"
   ]
  },
  {
   "cell_type": "markdown",
   "metadata": {},
   "source": [
    "# Section 1. prepare data"
   ]
  },
  {
   "cell_type": "markdown",
   "metadata": {},
   "source": [
    "## load Amazon product dataset"
   ]
  },
  {
   "cell_type": "code",
   "execution_count": 2,
   "metadata": {},
   "outputs": [
    {
     "data": {
      "text/plain": [
       "(5589590, 2)"
      ]
     },
     "execution_count": 2,
     "metadata": {},
     "output_type": "execute_result"
    }
   ],
   "source": [
    "amazon = pd.read_csv('output/selectedAmazonProductData_final.csv')\n",
    "amazon.head()\n",
    "amazon.shape"
   ]
  },
  {
   "cell_type": "markdown",
   "metadata": {},
   "source": [
    "## load target dataset"
   ]
  },
  {
   "cell_type": "code",
   "execution_count": 4,
   "metadata": {},
   "outputs": [
    {
     "data": {
      "text/plain": [
       "<bound method NDFrame.head of 0                      Alisha Solid Women's Cycling Shorts\n",
       "1                      FabHomeDecor Fabric Double Sofa Bed\n",
       "2                                               AW Bellies\n",
       "3                    Sicons All Purpose Arnica Dog Shampoo\n",
       "4        Eternal Gandhi Super Series Crystal Paper Weig...\n",
       "5        dilli bazaaar Bellies, Corporate Casuals, Casuals\n",
       "6                                           Ladela Bellies\n",
       "7                                   Carrel Printed Women's\n",
       "8                  Sicons All Purpose Tea Tree Dog Shampoo\n",
       "9                   Freelance Vacuum Bottles 350 ml Bottle\n",
       "10                                      Style Foot Bellies\n",
       "11              Sicons Conditioning Conditoner Dog Shampoo\n",
       "12                 dongli Printed Boy's Round Neck T-Shirt\n",
       "13                                      SWAGGA Women Clogs\n",
       "14       Kennel Rubber Dumbell With Bell - Small Rubber...\n",
       "15                               Glus Wedding Lingerie Set\n",
       "16       Veelys Shiny White Quad Roller Skates - Size 4...\n",
       "17                Bulaky vanity case Jewellery Vanity Case\n",
       "18                                    FDT Women's Leggings\n",
       "19                            Madcaps C38GR30 Men's Cargos\n",
       "20           Bengal Blooms Rose Artificial Plant  with Pot\n",
       "21       Indcrown Net Embroidered Semi-stitched Lehenga...\n",
       "22           Shopmania Music Band A5 Notebook Spiral Bound\n",
       "23       Tiara Diaries 2016-2017 Designer LA Kaarta \"TA...\n",
       "24                     KAJCI Embroidered Women's Waistcoat\n",
       "25       Packman 8 x 10 inches Security Bags Without PO...\n",
       "26               Pick Pocket Embroidered Women's Waistcoat\n",
       "27                             Angelfish Silk Potali Potli\n",
       "28                                      Oye Boy's Dungaree\n",
       "29                                     Nuride Canvas Shoes\n",
       "                               ...                        \n",
       "12593                         Martini Women's Sheath Dress\n",
       "12594                Kashana Fashions Women's A-line Dress\n",
       "12595                            MSMB Women's A-line Dress\n",
       "12596                           Kiosha Women's Shift Dress\n",
       "12597                    My Addiction Women's A-line Dress\n",
       "12598                         Indibox Women's A-line Dress\n",
       "12599              Elite Collection Medium Acrylic Sticker\n",
       "12600        Wallmantra Extra Large Vinyl Stickers Sticker\n",
       "12601                         Sindhi Footwear Women Wedges\n",
       "12602              Wallmantra Large Vinyl Stickers Sticker\n",
       "12603                       WallDesign Small Vinyl Sticker\n",
       "12604                        999store Medium Paper Sticker\n",
       "12605             Wallmantra Medium Vinyl Stickers Sticker\n",
       "12606                              Belle Gambe Women Heels\n",
       "12607    Lord's Red Women's Slingback Peeptoes Women Heels\n",
       "12608       Oren Empower Extra Large Self Adhesive Sticker\n",
       "12609               Wallmantra Large Vinyl Sticker Sticker\n",
       "12610         Wallmantra Extra Large Vinyl Sticker Sticker\n",
       "12611    Lord's Antique Gold Women's Peeptoe Heels Wome...\n",
       "12612                                  Do Bhai Women Heels\n",
       "12613    Uberlyfe Extra Large Pigmented Polyvinyl Films...\n",
       "12614              Wallmantra Medium Vinyl Sticker Sticker\n",
       "12615                          Fun To See Reusable Sticker\n",
       "12616                    Sindhi Footwear Ballerina Bellies\n",
       "12617              Wallmantra Small Vinyl Stickers Sticker\n",
       "12618                                   Purple Women Heels\n",
       "12619                         Uberlyfe Large Vinyl Sticker\n",
       "12620                   We Witches Comfy Hues Women Wedges\n",
       "12621                                Stylistry Women Heels\n",
       "12622                   Uberlyfe Extra Large Vinyl Sticker\n",
       "Name: Product Name, Length: 12623, dtype: object>"
      ]
     },
     "execution_count": 4,
     "metadata": {},
     "output_type": "execute_result"
    }
   ],
   "source": [
    "loaddata = pd.read_csv('input/ecommerce_product_names.csv')\n",
    "target = loaddata['Product Name']\n",
    "#del loaddata\n",
    "target.head"
   ]
  },
  {
   "cell_type": "markdown",
   "metadata": {},
   "source": [
    "## convert category names to a numerical variable"
   ]
  },
  {
   "cell_type": "code",
   "execution_count": 5,
   "metadata": {},
   "outputs": [
    {
     "data": {
      "text/plain": [
       "{'Movies & TV': 0,\n",
       " 'Sports & Outdoors': 1,\n",
       " 'Clothing': 2,\n",
       " 'Toys & Games': 3,\n",
       " 'CDs & Vinyl': 4,\n",
       " 'Musical Instruments': 5,\n",
       " 'Tools & Home Improvement': 6,\n",
       " 'Software': 7,\n",
       " 'Home & Kitchen': 8,\n",
       " 'Health & Personal Care': 9,\n",
       " 'Video Games': 10,\n",
       " 'Office Products': 11,\n",
       " 'Cell Phones & Accessories': 12,\n",
       " 'Electronics': 13,\n",
       " 'Office & School Supplies': 14,\n",
       " 'Baby': 15,\n",
       " 'Beauty': 16,\n",
       " 'Automotive': 17,\n",
       " 'Arts, Crafts & Sewing': 18,\n",
       " 'Computers': 19,\n",
       " 'All Electronics': 20,\n",
       " 'Accessories': 21,\n",
       " 'Pet Supplies': 22,\n",
       " 'Grocery & Gourmet Food': 23,\n",
       " 'Kitchen & Dining': 24,\n",
       " 'Industrial & Scientific': 25,\n",
       " 'Costumes & Accessories': 26,\n",
       " 'Appliances': 27,\n",
       " 'All Beauty': 28,\n",
       " 'Patio, Lawn & Garden': 29,\n",
       " 'Watches': 30,\n",
       " 'Home Improvement': 31,\n",
       " 'Baby Products': 32,\n",
       " 'Amazon Fashion': 33,\n",
       " 'Collectibles & Fine Art': 34,\n",
       " 'Shoes': 35,\n",
       " 'Jewelry': 36,\n",
       " 'Kindle Store': 37,\n",
       " 'Amazon Instant Video': 38,\n",
       " 'International': 39,\n",
       " 'Alternative Rock': 40,\n",
       " 'Miscellaneous': 41,\n",
       " 'Christian': 42,\n",
       " 'Apps for Android': 43}"
      ]
     },
     "execution_count": 5,
     "metadata": {},
     "output_type": "execute_result"
    }
   ],
   "source": [
    "temp = amazon['macro categories'].unique()\n",
    "categoryList = {temp[i]: i for i in range(len(temp))}\n",
    "categoryList"
   ]
  },
  {
   "cell_type": "code",
   "execution_count": 7,
   "metadata": {},
   "outputs": [
    {
     "data": {
      "text/html": [
       "<div>\n",
       "<style scoped>\n",
       "    .dataframe tbody tr th:only-of-type {\n",
       "        vertical-align: middle;\n",
       "    }\n",
       "\n",
       "    .dataframe tbody tr th {\n",
       "        vertical-align: top;\n",
       "    }\n",
       "\n",
       "    .dataframe thead th {\n",
       "        text-align: right;\n",
       "    }\n",
       "</style>\n",
       "<table border=\"1\" class=\"dataframe\">\n",
       "  <thead>\n",
       "    <tr style=\"text-align: right;\">\n",
       "      <th></th>\n",
       "      <th>title</th>\n",
       "      <th>macro categories</th>\n",
       "      <th>category_ID</th>\n",
       "    </tr>\n",
       "  </thead>\n",
       "  <tbody>\n",
       "    <tr>\n",
       "      <th>0</th>\n",
       "      <td>Everyday Italian (with Giada de Laurentiis), V...</td>\n",
       "      <td>Movies &amp; TV</td>\n",
       "      <td>0</td>\n",
       "    </tr>\n",
       "    <tr>\n",
       "      <th>1</th>\n",
       "      <td>Adult Ballet Tutu Cheetah Pink</td>\n",
       "      <td>Sports &amp; Outdoors</td>\n",
       "      <td>1</td>\n",
       "    </tr>\n",
       "    <tr>\n",
       "      <th>2</th>\n",
       "      <td>Girls Ballet Tutu Neon Pink</td>\n",
       "      <td>Sports &amp; Outdoors</td>\n",
       "      <td>1</td>\n",
       "    </tr>\n",
       "    <tr>\n",
       "      <th>3</th>\n",
       "      <td>Adult Ballet Tutu Yellow</td>\n",
       "      <td>Sports &amp; Outdoors</td>\n",
       "      <td>1</td>\n",
       "    </tr>\n",
       "    <tr>\n",
       "      <th>4</th>\n",
       "      <td>Why Don't They Just Quit? DVD Roundtable Discu...</td>\n",
       "      <td>Movies &amp; TV</td>\n",
       "      <td>0</td>\n",
       "    </tr>\n",
       "    <tr>\n",
       "      <th>5</th>\n",
       "      <td>Girls Ballet Tutu Zebra Hot Pink</td>\n",
       "      <td>Sports &amp; Outdoors</td>\n",
       "      <td>1</td>\n",
       "    </tr>\n",
       "    <tr>\n",
       "      <th>6</th>\n",
       "      <td>Adult Ballet Tutu Purple</td>\n",
       "      <td>Sports &amp; Outdoors</td>\n",
       "      <td>1</td>\n",
       "    </tr>\n",
       "    <tr>\n",
       "      <th>7</th>\n",
       "      <td>Understanding Seizures and Epilepsy DVD</td>\n",
       "      <td>Movies &amp; TV</td>\n",
       "      <td>0</td>\n",
       "    </tr>\n",
       "    <tr>\n",
       "      <th>8</th>\n",
       "      <td>Live in Houston [VHS]</td>\n",
       "      <td>Movies &amp; TV</td>\n",
       "      <td>0</td>\n",
       "    </tr>\n",
       "    <tr>\n",
       "      <th>9</th>\n",
       "      <td>My Fair Pastry (Good Eats Vol. 9)</td>\n",
       "      <td>Movies &amp; TV</td>\n",
       "      <td>0</td>\n",
       "    </tr>\n",
       "  </tbody>\n",
       "</table>\n",
       "</div>"
      ],
      "text/plain": [
       "                                               title   macro categories  \\\n",
       "0  Everyday Italian (with Giada de Laurentiis), V...        Movies & TV   \n",
       "1                     Adult Ballet Tutu Cheetah Pink  Sports & Outdoors   \n",
       "2                        Girls Ballet Tutu Neon Pink  Sports & Outdoors   \n",
       "3                           Adult Ballet Tutu Yellow  Sports & Outdoors   \n",
       "4  Why Don't They Just Quit? DVD Roundtable Discu...        Movies & TV   \n",
       "5                   Girls Ballet Tutu Zebra Hot Pink  Sports & Outdoors   \n",
       "6                           Adult Ballet Tutu Purple  Sports & Outdoors   \n",
       "7            Understanding Seizures and Epilepsy DVD        Movies & TV   \n",
       "8                              Live in Houston [VHS]        Movies & TV   \n",
       "9                  My Fair Pastry (Good Eats Vol. 9)        Movies & TV   \n",
       "\n",
       "   category_ID  \n",
       "0            0  \n",
       "1            1  \n",
       "2            1  \n",
       "3            1  \n",
       "4            0  \n",
       "5            1  \n",
       "6            1  \n",
       "7            0  \n",
       "8            0  \n",
       "9            0  "
      ]
     },
     "execution_count": 7,
     "metadata": {},
     "output_type": "execute_result"
    }
   ],
   "source": [
    "# create a new colomn recording ID of products\n",
    "amazon['category_ID'] = amazon['macro categories'].map(categoryList)\n",
    "amazon.head(10)"
   ]
  },
  {
   "cell_type": "code",
   "execution_count": 8,
   "metadata": {},
   "outputs": [
    {
     "data": {
      "text/html": [
       "<div>\n",
       "<style scoped>\n",
       "    .dataframe tbody tr th:only-of-type {\n",
       "        vertical-align: middle;\n",
       "    }\n",
       "\n",
       "    .dataframe tbody tr th {\n",
       "        vertical-align: top;\n",
       "    }\n",
       "\n",
       "    .dataframe thead th {\n",
       "        text-align: right;\n",
       "    }\n",
       "</style>\n",
       "<table border=\"1\" class=\"dataframe\">\n",
       "  <thead>\n",
       "    <tr style=\"text-align: right;\">\n",
       "      <th></th>\n",
       "      <th>title</th>\n",
       "      <th>macro categories</th>\n",
       "      <th>category_ID</th>\n",
       "    </tr>\n",
       "  </thead>\n",
       "  <tbody>\n",
       "    <tr>\n",
       "      <th>0</th>\n",
       "      <td>Everyday Italian (with Giada de Laurentiis), V...</td>\n",
       "      <td>Movies &amp; TV</td>\n",
       "      <td>0</td>\n",
       "    </tr>\n",
       "    <tr>\n",
       "      <th>1</th>\n",
       "      <td>Adult Ballet Tutu Cheetah Pink</td>\n",
       "      <td>Sports &amp; Outdoors</td>\n",
       "      <td>1</td>\n",
       "    </tr>\n",
       "    <tr>\n",
       "      <th>2</th>\n",
       "      <td>Girls Ballet Tutu Neon Pink</td>\n",
       "      <td>Sports &amp; Outdoors</td>\n",
       "      <td>1</td>\n",
       "    </tr>\n",
       "    <tr>\n",
       "      <th>3</th>\n",
       "      <td>Adult Ballet Tutu Yellow</td>\n",
       "      <td>Sports &amp; Outdoors</td>\n",
       "      <td>1</td>\n",
       "    </tr>\n",
       "    <tr>\n",
       "      <th>4</th>\n",
       "      <td>Why Don't They Just Quit? DVD Roundtable Discu...</td>\n",
       "      <td>Movies &amp; TV</td>\n",
       "      <td>0</td>\n",
       "    </tr>\n",
       "    <tr>\n",
       "      <th>5</th>\n",
       "      <td>Girls Ballet Tutu Zebra Hot Pink</td>\n",
       "      <td>Sports &amp; Outdoors</td>\n",
       "      <td>1</td>\n",
       "    </tr>\n",
       "    <tr>\n",
       "      <th>6</th>\n",
       "      <td>Adult Ballet Tutu Purple</td>\n",
       "      <td>Sports &amp; Outdoors</td>\n",
       "      <td>1</td>\n",
       "    </tr>\n",
       "    <tr>\n",
       "      <th>7</th>\n",
       "      <td>Understanding Seizures and Epilepsy DVD</td>\n",
       "      <td>Movies &amp; TV</td>\n",
       "      <td>0</td>\n",
       "    </tr>\n",
       "    <tr>\n",
       "      <th>8</th>\n",
       "      <td>Live in Houston [VHS]</td>\n",
       "      <td>Movies &amp; TV</td>\n",
       "      <td>0</td>\n",
       "    </tr>\n",
       "    <tr>\n",
       "      <th>9</th>\n",
       "      <td>My Fair Pastry (Good Eats Vol. 9)</td>\n",
       "      <td>Movies &amp; TV</td>\n",
       "      <td>0</td>\n",
       "    </tr>\n",
       "  </tbody>\n",
       "</table>\n",
       "</div>"
      ],
      "text/plain": [
       "                                               title   macro categories  \\\n",
       "0  Everyday Italian (with Giada de Laurentiis), V...        Movies & TV   \n",
       "1                     Adult Ballet Tutu Cheetah Pink  Sports & Outdoors   \n",
       "2                        Girls Ballet Tutu Neon Pink  Sports & Outdoors   \n",
       "3                           Adult Ballet Tutu Yellow  Sports & Outdoors   \n",
       "4  Why Don't They Just Quit? DVD Roundtable Discu...        Movies & TV   \n",
       "5                   Girls Ballet Tutu Zebra Hot Pink  Sports & Outdoors   \n",
       "6                           Adult Ballet Tutu Purple  Sports & Outdoors   \n",
       "7            Understanding Seizures and Epilepsy DVD        Movies & TV   \n",
       "8                              Live in Houston [VHS]        Movies & TV   \n",
       "9                  My Fair Pastry (Good Eats Vol. 9)        Movies & TV   \n",
       "\n",
       "   category_ID  \n",
       "0            0  \n",
       "1            1  \n",
       "2            1  \n",
       "3            1  \n",
       "4            0  \n",
       "5            1  \n",
       "6            1  \n",
       "7            0  \n",
       "8            0  \n",
       "9            0  "
      ]
     },
     "execution_count": 8,
     "metadata": {},
     "output_type": "execute_result"
    }
   ],
   "source": [
    "amazon.dropna()\n",
    "amazon = amazon[amazon['title'] != 'NaN']\n",
    "amazon.head(10)"
   ]
  },
  {
   "cell_type": "code",
   "execution_count": null,
   "metadata": {},
   "outputs": [],
   "source": [
    "type(amazon['title'][5589584])"
   ]
  },
  {
   "cell_type": "markdown",
   "metadata": {},
   "source": [
    "# Section 2. Represent text as numerical data"
   ]
  },
  {
   "cell_type": "code",
   "execution_count": 9,
   "metadata": {},
   "outputs": [],
   "source": [
    "# instantiate CountVectorizer (vectorizer)\n",
    "vect = CountVectorizer()"
   ]
  },
  {
   "cell_type": "code",
   "execution_count": 10,
   "metadata": {},
   "outputs": [
    {
     "name": "stdout",
     "output_type": "stream",
     "text": [
      "(5589590,)\n",
      "(5589590,)\n"
     ]
    }
   ],
   "source": [
    "# define X and y \n",
    "X = amazon['title']\n",
    "y = amazon['category_ID']\n",
    "print(X.shape)\n",
    "print(y.shape)"
   ]
  },
  {
   "cell_type": "code",
   "execution_count": 11,
   "metadata": {},
   "outputs": [
    {
     "name": "stdout",
     "output_type": "stream",
     "text": [
      "(4192192,)\n",
      "(1397398,)\n",
      "(4192192,)\n",
      "(1397398,)\n"
     ]
    }
   ],
   "source": [
    "# split X and y into training and testing sets\n",
    "# by default, it splits 75% training and 25% test\n",
    "# random_state=1 for reproducibility\n",
    "from sklearn.model_selection import train_test_split\n",
    "X_train, X_test, y_train, y_test = train_test_split(X, y, random_state=1)\n",
    "print(X_train.shape)\n",
    "print(X_test.shape)\n",
    "print(y_train.shape)\n",
    "print(y_test.shape)"
   ]
  },
  {
   "cell_type": "code",
   "execution_count": 13,
   "metadata": {},
   "outputs": [
    {
     "data": {
      "text/plain": [
       "278128                                       Go The Distance\n",
       "3662218    VMG Motorola Droid RAZR MAXX 2nd Gen 2-ITEM Ha...\n",
       "4450446    Hot 20000pcs Clear Rhinestone Decoration Cryst...\n",
       "140084     The Pelican Brief: Music from the Motion Pictu...\n",
       "4533636    Torre &amp; Tagus Cluck Salt and Pepper Shaker...\n",
       "5207235    Earhoox - Earbud Attachments - for iPhone 3G/4...\n",
       "2309593    Midwest Quiet Time e'Sensuals Orthopedic Nesti...\n",
       "2460090                                                  NaN\n",
       "389138                                            Love Songs\n",
       "2361820                                                  NaN\n",
       "Name: title, dtype: object"
      ]
     },
     "execution_count": 13,
     "metadata": {},
     "output_type": "execute_result"
    }
   ],
   "source": [
    "X_train.head(10)"
   ]
  },
  {
   "cell_type": "markdown",
   "metadata": {},
   "source": [
    "## combine all product names"
   ]
  },
  {
   "cell_type": "code",
   "execution_count": 14,
   "metadata": {},
   "outputs": [
    {
     "data": {
      "text/plain": [
       "0                  Alisha Solid Women's Cycling Shorts\n",
       "1                  FabHomeDecor Fabric Double Sofa Bed\n",
       "2                                           AW Bellies\n",
       "3                Sicons All Purpose Arnica Dog Shampoo\n",
       "4    Eternal Gandhi Super Series Crystal Paper Weig...\n",
       "dtype: object"
      ]
     },
     "execution_count": 14,
     "metadata": {},
     "output_type": "execute_result"
    }
   ],
   "source": [
    "productNames = pd.concat([amazon['title'], target])\n",
    "productNames[5589590:5589595]"
   ]
  },
  {
   "cell_type": "markdown",
   "metadata": {},
   "source": [
    "### Note: the vocabulary is learned with all product data, including amazon dataset and target dataset"
   ]
  },
  {
   "cell_type": "code",
   "execution_count": 15,
   "metadata": {},
   "outputs": [
    {
     "data": {
      "text/plain": [
       "CountVectorizer(analyzer='word', binary=False, decode_error='strict',\n",
       "        dtype=<class 'numpy.int64'>, encoding='utf-8', input='content',\n",
       "        lowercase=True, max_df=1.0, max_features=None, min_df=1,\n",
       "        ngram_range=(1, 1), preprocessor=None, stop_words=None,\n",
       "        strip_accents=None, token_pattern='(?u)\\\\b\\\\w\\\\w+\\\\b',\n",
       "        tokenizer=None, vocabulary=None)"
      ]
     },
     "execution_count": 15,
     "metadata": {},
     "output_type": "execute_result"
    }
   ],
   "source": [
    "# fit\n",
    "# learn the 'vocabulary' of the training data (occurs in-place)\n",
    "vect.fit(productNames.values.astype('U'))"
   ]
  },
  {
   "cell_type": "code",
   "execution_count": 17,
   "metadata": {},
   "outputs": [],
   "source": [
    "# examine the fitted vocabulary\n",
    "vocabulary = vect.get_feature_names()"
   ]
  },
  {
   "cell_type": "code",
   "execution_count": 18,
   "metadata": {},
   "outputs": [
    {
     "data": {
      "text/plain": [
       "1094032"
      ]
     },
     "execution_count": 18,
     "metadata": {},
     "output_type": "execute_result"
    }
   ],
   "source": [
    "len(vocabulary)"
   ]
  },
  {
   "cell_type": "code",
   "execution_count": 19,
   "metadata": {},
   "outputs": [
    {
     "data": {
      "text/plain": [
       "<4192192x1094032 sparse matrix of type '<class 'numpy.int64'>'\n",
       "\twith 37158149 stored elements in Compressed Sparse Row format>"
      ]
     },
     "execution_count": 19,
     "metadata": {},
     "output_type": "execute_result"
    }
   ],
   "source": [
    "# transform training data\n",
    "X_train_dtm = vect.transform(X_train.values.astype('U'))\n",
    "X_train_dtm"
   ]
  },
  {
   "cell_type": "code",
   "execution_count": 20,
   "metadata": {},
   "outputs": [
    {
     "data": {
      "text/plain": [
       "<1397398x1094032 sparse matrix of type '<class 'numpy.int64'>'\n",
       "\twith 12378938 stored elements in Compressed Sparse Row format>"
      ]
     },
     "execution_count": 20,
     "metadata": {},
     "output_type": "execute_result"
    }
   ],
   "source": [
    "# transform testing data (using fitted vocabulary) into a document-term matrix\n",
    "X_test_dtm = vect.transform(X_test.values.astype('U'))\n",
    "X_test_dtm"
   ]
  },
  {
   "cell_type": "code",
   "execution_count": 25,
   "metadata": {},
   "outputs": [
    {
     "data": {
      "text/plain": [
       "['for',\n",
       " 'with',\n",
       " 'black',\n",
       " 'quot',\n",
       " 'nan',\n",
       " 'and',\n",
       " 'case',\n",
       " 'of',\n",
       " 'amp',\n",
       " 'pack',\n",
       " 'inch',\n",
       " 'the',\n",
       " 'set',\n",
       " 'cover',\n",
       " 'women',\n",
       " 'white',\n",
       " 'in',\n",
       " 'by',\n",
       " 'blue',\n",
       " 'oz']"
      ]
     },
     "execution_count": 25,
     "metadata": {},
     "output_type": "execute_result"
    }
   ],
   "source": [
    "frequency = np.sum(X_train_dtm, axis = 0) # count frequencies of each word in vocabulary\n",
    "frequency = frequency.tolist()[0] # convert to a list\n",
    "frequency = [(frequency[index], index) for index in range(len(frequency))]\n",
    "frequency = sorted(frequency, key = lambda x: -x[0]) # sort as frequency\n",
    "indices_frequency = [index for frequency, index in frequency] # word indices sorted by frequency\n",
    "HighFreqWord = [vocabulary[i] for i in indices_frequency] # show high frquency words\n",
    "HighFreqWord[:20]"
   ]
  },
  {
   "cell_type": "code",
   "execution_count": null,
   "metadata": {},
   "outputs": [],
   "source": []
  },
  {
   "cell_type": "code",
   "execution_count": null,
   "metadata": {},
   "outputs": [],
   "source": []
  },
  {
   "cell_type": "code",
   "execution_count": null,
   "metadata": {},
   "outputs": [],
   "source": []
  },
  {
   "cell_type": "code",
   "execution_count": null,
   "metadata": {},
   "outputs": [],
   "source": []
  },
  {
   "cell_type": "markdown",
   "metadata": {},
   "source": [
    "# Section 3. Building and evaluating a model"
   ]
  },
  {
   "cell_type": "markdown",
   "metadata": {},
   "source": [
    "## naive_bayes"
   ]
  },
  {
   "cell_type": "code",
   "execution_count": 26,
   "metadata": {},
   "outputs": [],
   "source": [
    "from sklearn.naive_bayes import MultinomialNB\n",
    "\n",
    "#  instantiate a Multinomial Naive Bayes model\n",
    "nb = MultinomialNB()"
   ]
  },
  {
   "cell_type": "code",
   "execution_count": 27,
   "metadata": {},
   "outputs": [
    {
     "data": {
      "text/plain": [
       "MultinomialNB(alpha=1.0, class_prior=None, fit_prior=True)"
      ]
     },
     "execution_count": 27,
     "metadata": {},
     "output_type": "execute_result"
    }
   ],
   "source": [
    "# train the model \n",
    "nb.fit(X_train_dtm, y_train)"
   ]
  },
  {
   "cell_type": "code",
   "execution_count": 28,
   "metadata": {},
   "outputs": [],
   "source": [
    "#  make class predictions for X_test_dtm\n",
    "y_pred_class = nb.predict(X_test_dtm)"
   ]
  },
  {
   "cell_type": "code",
   "execution_count": 29,
   "metadata": {},
   "outputs": [
    {
     "data": {
      "text/plain": [
       "0.751523188096734"
      ]
     },
     "execution_count": 29,
     "metadata": {},
     "output_type": "execute_result"
    }
   ],
   "source": [
    "# calculate accuracy of class predictions\n",
    "from sklearn import metrics\n",
    "metrics.accuracy_score(y_test, y_pred_class)"
   ]
  },
  {
   "cell_type": "code",
   "execution_count": 30,
   "metadata": {},
   "outputs": [
    {
     "data": {
      "text/plain": [
       "array([[ 10152,   1165,    213, ...,      0,      0,      1],\n",
       "       [   148, 108177,   7412, ...,      0,      0,      1],\n",
       "       [     1,   4628,  73180, ...,      0,      0,      0],\n",
       "       ...,\n",
       "       [     0,      0,      0, ...,      0,      0,      0],\n",
       "       [     0,      0,      0, ...,      0,      0,      0],\n",
       "       [     0,      0,      0, ...,      0,      0,      0]])"
      ]
     },
     "execution_count": 30,
     "metadata": {},
     "output_type": "execute_result"
    }
   ],
   "source": [
    "# print the confusion matrix\n",
    "metrics.confusion_matrix(y_test, y_pred_class)"
   ]
  },
  {
   "cell_type": "markdown",
   "metadata": {},
   "source": [
    "## predict the product categories in the target dataset"
   ]
  },
  {
   "cell_type": "code",
   "execution_count": 31,
   "metadata": {},
   "outputs": [
    {
     "data": {
      "text/plain": [
       "<12623x1094032 sparse matrix of type '<class 'numpy.int64'>'\n",
       "\twith 82048 stored elements in Compressed Sparse Row format>"
      ]
     },
     "execution_count": 31,
     "metadata": {},
     "output_type": "execute_result"
    }
   ],
   "source": [
    "# transform target data \n",
    "target_dtm = vect.transform(target.values.astype('U'))\n",
    "target_dtm"
   ]
  },
  {
   "cell_type": "code",
   "execution_count": 32,
   "metadata": {},
   "outputs": [
    {
     "data": {
      "text/plain": [
       "(12623,)"
      ]
     },
     "execution_count": 32,
     "metadata": {},
     "output_type": "execute_result"
    }
   ],
   "source": [
    "target_pred_class = nb.predict(target_dtm)\n",
    "target_pred_class.shape"
   ]
  },
  {
   "cell_type": "code",
   "execution_count": 33,
   "metadata": {},
   "outputs": [
    {
     "data": {
      "text/plain": [
       "{'Movies & TV': 0,\n",
       " 'Sports & Outdoors': 1,\n",
       " 'Clothing': 2,\n",
       " 'Toys & Games': 3,\n",
       " 'CDs & Vinyl': 4,\n",
       " 'Musical Instruments': 5,\n",
       " 'Tools & Home Improvement': 6,\n",
       " 'Software': 7,\n",
       " 'Home & Kitchen': 8,\n",
       " 'Health & Personal Care': 9,\n",
       " 'Video Games': 10,\n",
       " 'Office Products': 11,\n",
       " 'Cell Phones & Accessories': 12,\n",
       " 'Electronics': 13,\n",
       " 'Office & School Supplies': 14,\n",
       " 'Baby': 15,\n",
       " 'Beauty': 16,\n",
       " 'Automotive': 17,\n",
       " 'Arts, Crafts & Sewing': 18,\n",
       " 'Computers': 19,\n",
       " 'All Electronics': 20,\n",
       " 'Accessories': 21,\n",
       " 'Pet Supplies': 22,\n",
       " 'Grocery & Gourmet Food': 23,\n",
       " 'Kitchen & Dining': 24,\n",
       " 'Industrial & Scientific': 25,\n",
       " 'Costumes & Accessories': 26,\n",
       " 'Appliances': 27,\n",
       " 'All Beauty': 28,\n",
       " 'Patio, Lawn & Garden': 29,\n",
       " 'Watches': 30,\n",
       " 'Home Improvement': 31,\n",
       " 'Baby Products': 32,\n",
       " 'Amazon Fashion': 33,\n",
       " 'Collectibles & Fine Art': 34,\n",
       " 'Shoes': 35,\n",
       " 'Jewelry': 36,\n",
       " 'Kindle Store': 37,\n",
       " 'Amazon Instant Video': 38,\n",
       " 'International': 39,\n",
       " 'Alternative Rock': 40,\n",
       " 'Miscellaneous': 41,\n",
       " 'Christian': 42,\n",
       " 'Apps for Android': 43}"
      ]
     },
     "execution_count": 33,
     "metadata": {},
     "output_type": "execute_result"
    }
   ],
   "source": [
    "categoryList"
   ]
  },
  {
   "cell_type": "code",
   "execution_count": 35,
   "metadata": {},
   "outputs": [
    {
     "data": {
      "text/plain": [
       "['Clothing',\n",
       " 'Home & Kitchen',\n",
       " 'Toys & Games',\n",
       " 'Pet Supplies',\n",
       " 'Home & Kitchen',\n",
       " 'Shoes',\n",
       " 'Toys & Games',\n",
       " 'Clothing',\n",
       " 'Pet Supplies',\n",
       " 'Health & Personal Care',\n",
       " 'Toys & Games',\n",
       " 'Beauty',\n",
       " 'Clothing',\n",
       " 'Shoes',\n",
       " 'Pet Supplies',\n",
       " 'Home & Kitchen',\n",
       " 'Sports & Outdoors',\n",
       " 'Tools & Home Improvement',\n",
       " 'Clothing',\n",
       " 'Clothing']"
      ]
     },
     "execution_count": 35,
     "metadata": {},
     "output_type": "execute_result"
    }
   ],
   "source": [
    "target_category = []\n",
    "for ID in target_pred_class:\n",
    "    for cat, cat_ID in categoryList.items():    \n",
    "        if cat_ID == ID:\n",
    "            target_category.append(cat)\n",
    "target_category[:20]"
   ]
  },
  {
   "cell_type": "markdown",
   "metadata": {},
   "source": [
    "## export categories of target dataset"
   ]
  },
  {
   "cell_type": "code",
   "execution_count": 40,
   "metadata": {},
   "outputs": [],
   "source": [
    "df = loaddata.copy()"
   ]
  },
  {
   "cell_type": "code",
   "execution_count": 41,
   "metadata": {},
   "outputs": [],
   "source": [
    "df['Categories'] = np.array(target_category)"
   ]
  },
  {
   "cell_type": "code",
   "execution_count": null,
   "metadata": {},
   "outputs": [],
   "source": [
    "df"
   ]
  },
  {
   "cell_type": "code",
   "execution_count": 42,
   "metadata": {},
   "outputs": [],
   "source": [
    "export_csv = df.to_csv (r'output/ProductWithCategories.csv', index = None, header=True)"
   ]
  },
  {
   "cell_type": "code",
   "execution_count": 43,
   "metadata": {},
   "outputs": [
    {
     "data": {
      "text/plain": [
       "Categories\n",
       "Clothing                     3120\n",
       "Home & Kitchen               1825\n",
       "Sports & Outdoors            1474\n",
       "Jewelry                      1015\n",
       "Electronics                   847\n",
       "Automotive                    842\n",
       "Shoes                         572\n",
       "Toys & Games                  518\n",
       "Arts, Crafts & Sewing         485\n",
       "Beauty                        444\n",
       "Cell Phones & Accessories     366\n",
       "Tools & Home Improvement      292\n",
       "Health & Personal Care        199\n",
       "Office Products               160\n",
       "Patio, Lawn & Garden          140\n",
       "Pet Supplies                   93\n",
       "CDs & Vinyl                    91\n",
       "Accessories                    67\n",
       "Baby                           32\n",
       "Grocery & Gourmet Food         27\n",
       "Movies & TV                     5\n",
       "Musical Instruments             4\n",
       "Watches                         3\n",
       "Costumes & Accessories          2\n",
       "Name: Number, dtype: int64"
      ]
     },
     "execution_count": 43,
     "metadata": {},
     "output_type": "execute_result"
    }
   ],
   "source": [
    "category = df.groupby('Categories').size()\n",
    "category = category.rename('Number')\n",
    "category = category.sort_values(ascending=False)\n",
    "category"
   ]
  },
  {
   "cell_type": "code",
   "execution_count": 44,
   "metadata": {},
   "outputs": [
    {
     "data": {
      "text/plain": [
       "24"
      ]
     },
     "execution_count": 44,
     "metadata": {},
     "output_type": "execute_result"
    }
   ],
   "source": [
    "len(category)"
   ]
  },
  {
   "cell_type": "code",
   "execution_count": null,
   "metadata": {},
   "outputs": [],
   "source": []
  },
  {
   "cell_type": "code",
   "execution_count": null,
   "metadata": {},
   "outputs": [],
   "source": []
  },
  {
   "cell_type": "markdown",
   "metadata": {},
   "source": [
    "### 10-fold cross validation splits"
   ]
  },
  {
   "cell_type": "code",
   "execution_count": 51,
   "metadata": {},
   "outputs": [
    {
     "ename": "NameError",
     "evalue": "name 'train' is not defined",
     "output_type": "error",
     "traceback": [
      "\u001b[0;31m---------------------------------------------------------------------------\u001b[0m",
      "\u001b[0;31mNameError\u001b[0m                                 Traceback (most recent call last)",
      "\u001b[0;32m<ipython-input-51-0f38b48e5d27>\u001b[0m in \u001b[0;36m<module>\u001b[0;34m\u001b[0m\n\u001b[1;32m      1\u001b[0m \u001b[0msplit\u001b[0m \u001b[0;34m=\u001b[0m \u001b[0;36m10\u001b[0m\u001b[0;34m\u001b[0m\u001b[0;34m\u001b[0m\u001b[0m\n\u001b[1;32m      2\u001b[0m \u001b[0mskf\u001b[0m \u001b[0;34m=\u001b[0m \u001b[0mStratifiedKFold\u001b[0m\u001b[0;34m(\u001b[0m\u001b[0mn_splits\u001b[0m \u001b[0;34m=\u001b[0m \u001b[0msplit\u001b[0m\u001b[0;34m)\u001b[0m\u001b[0;34m\u001b[0m\u001b[0;34m\u001b[0m\u001b[0m\n\u001b[0;32m----> 3\u001b[0;31m \u001b[0mskf\u001b[0m\u001b[0;34m.\u001b[0m\u001b[0mget_n_splits\u001b[0m\u001b[0;34m(\u001b[0m\u001b[0mtrain\u001b[0m\u001b[0;34m,\u001b[0m \u001b[0mtarget\u001b[0m\u001b[0;34m)\u001b[0m\u001b[0;34m\u001b[0m\u001b[0;34m\u001b[0m\u001b[0m\n\u001b[0m",
      "\u001b[0;31mNameError\u001b[0m: name 'train' is not defined"
     ]
    }
   ],
   "source": [
    "split = 10\n",
    "skf = StratifiedKFold(n_splits = split)\n",
    "skf.get_n_splits(train, target)"
   ]
  },
  {
   "cell_type": "code",
   "execution_count": 47,
   "metadata": {},
   "outputs": [],
   "source": [
    "import gc\n",
    "import xgboost as xgb \n",
    "import numpy as np\n",
    "import pandas as pd\n",
    "import pickle\n",
    "from scipy.sparse import csr_matrix\n",
    "from sklearn.metrics import log_loss, roc_auc_score\n",
    "from sklearn.model_selection import StratifiedKFold\n",
    "from sklearn.preprocessing import normalize\n",
    "\n",
    "import os  # for Macbook\n",
    "os.environ['KMP_DUPLICATE_LIB_OK']='True'"
   ]
  },
  {
   "cell_type": "code",
   "execution_count": null,
   "metadata": {},
   "outputs": [],
   "source": [
    "### Set parameters"
   ]
  },
  {
   "cell_type": "code",
   "execution_count": 69,
   "metadata": {},
   "outputs": [],
   "source": [
    "num_boost_round = 500\n",
    "params = {}\n",
    "params[\"objective\"] = 'multi:softprob'\n",
    "params[\"eta\"] = 0.03 # 如同学习率\n",
    "params[\"subsample\"] = 1  # 随机采样训练样本 训练实例的子采样比\n",
    "params[\"colsample_bytree\"] = 0.7 # 生成树时进行的列采样\n",
    "params[\"silent\"] = 0 #设置成1则没有运行信息输出，最好是设置为0.是否在运行升级时打印消息。\n",
    "params[\"max_depth\"] = 5 # 构建树的深度，越大越容易过拟合\n",
    "params[\"min_child_weight\"] = 1\n",
    "# 这个参数默认是 1，是每个叶子里面 h 的和至少是多少，对正负样本不均衡时的 0-1 分类而言\n",
    "#，假设 h 在 0.01 附近，min_child_weight 为 1 意味着叶子节点中最少需要包含 100 个样本。\n",
    "params[\"eval_metric\"] = \"mlogloss\"\n",
    "params[\"num_class\"] = 44\n"
   ]
  },
  {
   "cell_type": "code",
   "execution_count": 65,
   "metadata": {},
   "outputs": [
    {
     "name": "stdout",
     "output_type": "stream",
     "text": [
      "1094032\n",
      "4192192\n"
     ]
    }
   ],
   "source": [
    "D_train = xgb.DMatrix(\n",
    "                    csr_matrix(X_train_dtm),\n",
    "                    y_train,\n",
    "                    silent = True)\n",
    "\n",
    "print(D_train.num_col())\n",
    "print(D_train.num_row())   "
   ]
  },
  {
   "cell_type": "code",
   "execution_count": 54,
   "metadata": {},
   "outputs": [
    {
     "name": "stdout",
     "output_type": "stream",
     "text": [
      "1094032\n",
      "1397398\n"
     ]
    }
   ],
   "source": [
    "D_test = xgb.DMatrix(\n",
    "                    csr_matrix(X_test_dtm),\n",
    "                    y_test,\n",
    "                    silent = True)\n",
    "watchlist = [(D_test, 'test'), (D_train, 'train')]\n",
    "print(D_test.num_col())\n",
    "print(D_test.num_row())"
   ]
  },
  {
   "cell_type": "code",
   "execution_count": null,
   "metadata": {},
   "outputs": [
    {
     "name": "stdout",
     "output_type": "stream",
     "text": [
      "[0]\ttest-mlogloss:3.64016\ttrain-mlogloss:3.63655\n",
      "Multiple eval metrics have been passed: 'train-mlogloss' will be used for early stopping.\n",
      "\n",
      "Will train until train-mlogloss hasn't improved in 250 rounds.\n",
      "[1]\ttest-mlogloss:3.52804\ttrain-mlogloss:3.52812\n",
      "[2]\ttest-mlogloss:3.44076\ttrain-mlogloss:3.44121\n",
      "[3]\ttest-mlogloss:3.36887\ttrain-mlogloss:3.36929\n",
      "[4]\ttest-mlogloss:3.30338\ttrain-mlogloss:3.30307\n",
      "[5]\ttest-mlogloss:3.24419\ttrain-mlogloss:3.24319\n",
      "[6]\ttest-mlogloss:3.19149\ttrain-mlogloss:3.19051\n",
      "[7]\ttest-mlogloss:3.1438\ttrain-mlogloss:3.14455\n",
      "[8]\ttest-mlogloss:3.0964\ttrain-mlogloss:3.09713\n",
      "[9]\ttest-mlogloss:3.05355\ttrain-mlogloss:3.05389\n",
      "[10]\ttest-mlogloss:3.01392\ttrain-mlogloss:3.01334\n",
      "[11]\ttest-mlogloss:2.97629\ttrain-mlogloss:2.97581\n",
      "[12]\ttest-mlogloss:2.94014\ttrain-mlogloss:2.94069\n",
      "[13]\ttest-mlogloss:2.90676\ttrain-mlogloss:2.90589\n",
      "[14]\ttest-mlogloss:2.87642\ttrain-mlogloss:2.87526\n",
      "[15]\ttest-mlogloss:2.84525\ttrain-mlogloss:2.84424\n",
      "[16]\ttest-mlogloss:2.81645\ttrain-mlogloss:2.81542\n",
      "[17]\ttest-mlogloss:2.78844\ttrain-mlogloss:2.78894\n",
      "[18]\ttest-mlogloss:2.76238\ttrain-mlogloss:2.76122\n",
      "[19]\ttest-mlogloss:2.7364\ttrain-mlogloss:2.73606\n",
      "[20]\ttest-mlogloss:2.71168\ttrain-mlogloss:2.71116\n",
      "[21]\ttest-mlogloss:2.68801\ttrain-mlogloss:2.68693\n",
      "[22]\ttest-mlogloss:2.66516\ttrain-mlogloss:2.66517\n",
      "[23]\ttest-mlogloss:2.64409\ttrain-mlogloss:2.64381\n",
      "[24]\ttest-mlogloss:2.62352\ttrain-mlogloss:2.6239\n",
      "[25]\ttest-mlogloss:2.60347\ttrain-mlogloss:2.60428\n",
      "[26]\ttest-mlogloss:2.58423\ttrain-mlogloss:2.58478\n",
      "[27]\ttest-mlogloss:2.56496\ttrain-mlogloss:2.56541\n",
      "[28]\ttest-mlogloss:2.54785\ttrain-mlogloss:2.54618\n",
      "[29]\ttest-mlogloss:2.52987\ttrain-mlogloss:2.52926\n",
      "[30]\ttest-mlogloss:2.51247\ttrain-mlogloss:2.51241\n",
      "[31]\ttest-mlogloss:2.49635\ttrain-mlogloss:2.49677\n",
      "[32]\ttest-mlogloss:2.48074\ttrain-mlogloss:2.48053\n",
      "[33]\ttest-mlogloss:2.46467\ttrain-mlogloss:2.46439\n",
      "[34]\ttest-mlogloss:2.4491\ttrain-mlogloss:2.44842\n",
      "[35]\ttest-mlogloss:2.43411\ttrain-mlogloss:2.43434\n",
      "[36]\ttest-mlogloss:2.42037\ttrain-mlogloss:2.41996\n",
      "[37]\ttest-mlogloss:2.40586\ttrain-mlogloss:2.40436\n",
      "[38]\ttest-mlogloss:2.39187\ttrain-mlogloss:2.39125\n",
      "[39]\ttest-mlogloss:2.3788\ttrain-mlogloss:2.3783\n",
      "[40]\ttest-mlogloss:2.36541\ttrain-mlogloss:2.36501\n",
      "[41]\ttest-mlogloss:2.35293\ttrain-mlogloss:2.35271\n",
      "[42]\ttest-mlogloss:2.34043\ttrain-mlogloss:2.34063\n",
      "[43]\ttest-mlogloss:2.32854\ttrain-mlogloss:2.32791\n",
      "[44]\ttest-mlogloss:2.31669\ttrain-mlogloss:2.31665\n",
      "[45]\ttest-mlogloss:2.3054\ttrain-mlogloss:2.30444\n",
      "[46]\ttest-mlogloss:2.2944\ttrain-mlogloss:2.2935\n",
      "[47]\ttest-mlogloss:2.28322\ttrain-mlogloss:2.28256\n",
      "[48]\ttest-mlogloss:2.27258\ttrain-mlogloss:2.27185\n"
     ]
    }
   ],
   "source": [
    "# fit the classfier now\n",
    "clf = xgb.train(params, D_train, num_boost_round,\n",
    "                    evals = watchlist, early_stopping_rounds = 10)\n",
    "    \n",
    "test_prediction = clf.predict(D_test) "
   ]
  },
  {
   "cell_type": "code",
   "execution_count": null,
   "metadata": {},
   "outputs": [],
   "source": [
    "clf.save_model('categoryPrediction_XGBoost.model')"
   ]
  }
 ],
 "metadata": {
  "kernelspec": {
   "display_name": "Python 3",
   "language": "python",
   "name": "python3"
  },
  "language_info": {
   "codemirror_mode": {
    "name": "ipython",
    "version": 3
   },
   "file_extension": ".py",
   "mimetype": "text/x-python",
   "name": "python",
   "nbconvert_exporter": "python",
   "pygments_lexer": "ipython3",
   "version": "3.6.8"
  }
 },
 "nbformat": 4,
 "nbformat_minor": 2
}
